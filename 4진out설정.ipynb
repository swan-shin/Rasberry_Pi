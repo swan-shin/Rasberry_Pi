{
  "nbformat": 4,
  "nbformat_minor": 0,
  "metadata": {
    "colab": {
      "provenance": [],
      "authorship_tag": "ABX9TyMpi9wOZkSMZLdFlkJIbZao",
      "include_colab_link": true
    },
    "kernelspec": {
      "name": "python3",
      "display_name": "Python 3"
    },
    "language_info": {
      "name": "python"
    }
  },
  "cells": [
    {
      "cell_type": "markdown",
      "metadata": {
        "id": "view-in-github",
        "colab_type": "text"
      },
      "source": [
        "<a href=\"https://colab.research.google.com/github/swan-shin/Rasberry_Pi/blob/master/4%EC%A7%84out%EC%84%A4%EC%A0%95.ipynb\" target=\"_parent\"><img src=\"https://colab.research.google.com/assets/colab-badge.svg\" alt=\"Open In Colab\"/></a>"
      ]
    },
    {
      "cell_type": "code",
      "execution_count": 1,
      "metadata": {
        "id": "ZUYkrmrtuxBO"
      },
      "outputs": [],
      "source": [
        "import numpy as np\n",
        "import pandas as pd\n",
        "from datetime import datetime, timedelta"
      ]
    },
    {
      "cell_type": "code",
      "source": [
        "raw_data = {'ACT_TIME': ['2016.02.25', '2016.02.26', '2016.02.27', '2016.02.27', \n",
        "                         '2016.02.27', '2016.02.26', '2016.02.26', '2016.02.26', '2016.02.27'],\n",
        "            'UNIT_NAME': ['SBEW-01', 'SBEW-01', 'SBEW-01', 'SBEW-01', 'SBEW-01', 'SBEW-01', 'SBEW-01', 'SBEW-01', 'SBEW-01'],\n",
        "            'PARAMETER': ['upper', 'upper', 'upper', 'upper', 'upper', 'lower', 'lower', 'lower', 'lower']}\n",
        "df = pd.DataFrame(raw_data)\n",
        "df['KEY'] = df[\"UNIT_NAME\"]+\"-\"+df[\"PARAMETER\"]\n",
        "df=df.reset_index()\n",
        "df.rename(columns={'index':'No'}, inplace=True)\n",
        "df['skout']=0\n",
        "df['ACT_TIME'] = pd.to_datetime(df['ACT_TIME'])\n",
        "# df.info()"
      ],
      "metadata": {
        "id": "44rdcCR3uzk_"
      },
      "execution_count": null,
      "outputs": []
    },
    {
      "cell_type": "code",
      "source": [
        "j = 0\n",
        "before_para = df['KEY'][0]\n",
        "\n",
        "for i in df['No']:\n",
        "    if before_para == df['KEY'][i]:\n",
        "        j += 1\n",
        "        if j==4:\n",
        "            if df['ACT_TIME'][i] - df['ACT_TIME'][i-3] <= timedelta(days=1):\n",
        "                df['skout'][i] = 1\n",
        "                j = 0\n",
        "            else: j = 3 \n",
        "        else: continue\n",
        "    else:\n",
        "        j = 1 \n",
        "        before_para = df['KEY'][i]\n",
        "        continue"
      ],
      "metadata": {
        "id": "K9vtP2UCu1rV"
      },
      "execution_count": null,
      "outputs": []
    }
  ]
}